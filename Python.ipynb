{
  "nbformat": 4,
  "nbformat_minor": 0,
  "metadata": {
    "colab": {
      "name": "Python.ipynb",
      "provenance": [],
      "authorship_tag": "ABX9TyMDOfIhg9qN29V4VKRcabac",
      "include_colab_link": true
    },
    "kernelspec": {
      "name": "python3",
      "display_name": "Python 3"
    },
    "language_info": {
      "name": "python"
    }
  },
  "cells": [
    {
      "cell_type": "markdown",
      "metadata": {
        "id": "view-in-github",
        "colab_type": "text"
      },
      "source": [
        "<a href=\"https://colab.research.google.com/github/Ishan-sharma8/Python/blob/main/Python.ipynb\" target=\"_parent\"><img src=\"https://colab.research.google.com/assets/colab-badge.svg\" alt=\"Open In Colab\"/></a>"
      ]
    },
    {
      "cell_type": "markdown",
      "metadata": {
        "id": "qSZQROI9zNDH"
      },
      "source": [
        "Lists\n"
      ]
    },
    {
      "cell_type": "code",
      "metadata": {
        "colab": {
          "base_uri": "https://localhost:8080/"
        },
        "id": "jHNkddeazN9a",
        "outputId": "063ef28c-d200-4410-a045-3d3a9090a523"
      },
      "source": [
        "li1=[1,2,3]\n",
        "print(li1)\n",
        "li2=[1,2,\"sam\",2.1]\n",
        "print(li2)\n",
        "\n",
        "li2[2]\n",
        "li2.append(\"ishan\")\n",
        "print(li2)\n"
      ],
      "execution_count": null,
      "outputs": [
        {
          "output_type": "stream",
          "text": [
            "[1, 2, 3]\n",
            "[1, 2, 'sam', 2.1]\n",
            "[1, 2, 'sam', 2.1, 'ishan']\n"
          ],
          "name": "stdout"
        }
      ]
    },
    {
      "cell_type": "markdown",
      "metadata": {
        "id": "UeZu6QDI0r0R"
      },
      "source": [
        "String\n"
      ]
    },
    {
      "cell_type": "code",
      "metadata": {
        "colab": {
          "base_uri": "https://localhost:8080/"
        },
        "id": "qdY2vRx40s6w",
        "outputId": "06c17237-113c-4ffb-fd01-2b333e1a0f7c"
      },
      "source": [
        "s='rohit'\n",
        "type(s)\n"
      ],
      "execution_count": null,
      "outputs": [
        {
          "output_type": "execute_result",
          "data": {
            "text/plain": [
              "str"
            ]
          },
          "metadata": {
            "tags": []
          },
          "execution_count": 15
        }
      ]
    },
    {
      "cell_type": "code",
      "metadata": {
        "colab": {
          "base_uri": "https://localhost:8080/"
        },
        "id": "6BKqV6eQ1q3B",
        "outputId": "ae0d204e-2498-427f-cc6c-d27c4d258605"
      },
      "source": [
        "s='''i like\n",
        "cricket'''\n",
        "print(s)"
      ],
      "execution_count": null,
      "outputs": [
        {
          "output_type": "stream",
          "text": [
            "i like\n",
            "cricket\n"
          ],
          "name": "stdout"
        }
      ]
    },
    {
      "cell_type": "code",
      "metadata": {
        "colab": {
          "base_uri": "https://localhost:8080/"
        },
        "id": "FsOB8bx52Jbl",
        "outputId": "bacbc977-4790-46d3-e497-696e18a22768"
      },
      "source": [
        "s='ishan'\n",
        "print(s[0])\n",
        "print(s[1])\n",
        "print(s[-1])  #starts from last"
      ],
      "execution_count": null,
      "outputs": [
        {
          "output_type": "stream",
          "text": [
            "i\n",
            "s\n",
            "n\n"
          ],
          "name": "stdout"
        }
      ]
    },
    {
      "cell_type": "code",
      "metadata": {
        "colab": {
          "base_uri": "https://localhost:8080/",
          "height": 86
        },
        "id": "N3ha6LM-23nj",
        "outputId": "efe43e3c-2715-4565-d489-5d3319303ae5"
      },
      "source": [
        "p='''i\n",
        "like\n",
        "cricket'''\n",
        "\n",
        "print(p[0])\n",
        "print(p[1])\n",
        "p\n",
        "\n"
      ],
      "execution_count": null,
      "outputs": [
        {
          "output_type": "stream",
          "text": [
            "i\n",
            "\n",
            "\n"
          ],
          "name": "stdout"
        },
        {
          "output_type": "execute_result",
          "data": {
            "application/vnd.google.colaboratory.intrinsic+json": {
              "type": "string"
            },
            "text/plain": [
              "'i\\nlike\\ncricket'"
            ]
          },
          "metadata": {
            "tags": []
          },
          "execution_count": 43
        }
      ]
    },
    {
      "cell_type": "markdown",
      "metadata": {
        "id": "cnqpHKipBeOk"
      },
      "source": [
        "Tuples"
      ]
    },
    {
      "cell_type": "code",
      "metadata": {
        "id": "Uz_F3Fb0BfoL"
      },
      "source": [
        ""
      ],
      "execution_count": null,
      "outputs": []
    }
  ]
}